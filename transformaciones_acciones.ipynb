{
 "metadata": {
  "language_info": {
   "codemirror_mode": {
    "name": "ipython",
    "version": 3
   },
   "file_extension": ".py",
   "mimetype": "text/x-python",
   "name": "python",
   "nbconvert_exporter": "python",
   "pygments_lexer": "ipython3",
   "version": "3.7.4-final"
  },
  "orig_nbformat": 2,
  "kernelspec": {
   "name": "python3",
   "display_name": "Python 3.7.4 64-bit",
   "metadata": {
    "interpreter": {
     "hash": "55e188d73360ef65facbdb428bb41cd562ed6d874a152a3c577c858d595ae713"
    }
   }
  }
 },
 "nbformat": 4,
 "nbformat_minor": 2,
 "cells": [
  {
   "cell_type": "code",
   "execution_count": 39,
   "metadata": {},
   "outputs": [],
   "source": [
    "from pyspark import SparkContext\n",
    "from pyspark.sql import SparkSession"
   ]
  },
  {
   "cell_type": "code",
   "execution_count": 42,
   "metadata": {},
   "outputs": [],
   "source": [
    "sc = SparkContext(master=\"local\", appName=\"transformacionesYAcciones\")"
   ]
  },
  {
   "cell_type": "code",
   "execution_count": 43,
   "metadata": {},
   "outputs": [
    {
     "output_type": "execute_result",
     "data": {
      "text/plain": [
       "pyspark.rdd.RDD"
      ]
     },
     "metadata": {},
     "execution_count": 43
    }
   ],
   "source": [
    "rdd1 = sc.parallelize([1,2,3])\n",
    "type(rdd1)"
   ]
  },
  {
   "cell_type": "code",
   "execution_count": 44,
   "metadata": {},
   "outputs": [
    {
     "output_type": "execute_result",
     "data": {
      "text/plain": [
       "<SparkContext master=local appName=transformacionesYAcciones>"
      ],
      "text/html": "\n        <div>\n            <p><b>SparkContext</b></p>\n\n            <p><a href=\"http://DESKTOP-8DFSQ7I:4041\">Spark UI</a></p>\n\n            <dl>\n              <dt>Version</dt>\n                <dd><code>v3.1.1</code></dd>\n              <dt>Master</dt>\n                <dd><code>local</code></dd>\n              <dt>AppName</dt>\n                <dd><code>transformacionesYAcciones</code></dd>\n            </dl>\n        </div>\n        "
     },
     "metadata": {},
     "execution_count": 44
    }
   ],
   "source": [
    "sc"
   ]
  },
  {
   "cell_type": "code",
   "execution_count": 10,
   "metadata": {},
   "outputs": [
    {
     "output_type": "stream",
     "name": "stdout",
     "text": [
      "deporte.csv\ndeportista.csv\ndeportista2.csv\ndeportistaError.csv\nevento.csv\njuegos.csv\nmodelo_relacional.jpg\npaises.csv\nresultados.csv\n"
     ]
    }
   ],
   "source": [
    "!ls 'files'"
   ]
  },
  {
   "cell_type": "code",
   "execution_count": 51,
   "metadata": {},
   "outputs": [],
   "source": [
    "equiposOlimpicosRDD = sc.textFile('files/paises.csv').map(lambda line: line.split(','))\n"
   ]
  },
  {
   "cell_type": "code",
   "execution_count": 20,
   "metadata": {},
   "outputs": [
    {
     "output_type": "execute_result",
     "data": {
      "text/plain": [
       "[['id', 'equipo', 'sigla'],\n",
       " ['1', '30. Februar', 'AUT'],\n",
       " ['2', 'A North American Team', 'MEX'],\n",
       " ['3', 'Acipactli', 'MEX'],\n",
       " ['4', 'Acturus', 'ARG'],\n",
       " ['5', 'Afghanistan', 'AFG'],\n",
       " ['6', 'Akatonbo', 'IRL'],\n",
       " ['7', 'Alain IV', 'SUI'],\n",
       " ['8', 'Albania', 'ALB'],\n",
       " ['9', 'Alcaid', 'POR'],\n",
       " ['10', 'Alcyon-6', 'FRA'],\n",
       " ['11', 'Alcyon-7', 'FRA'],\n",
       " ['12', 'Aldebaran', 'ITA'],\n",
       " ['13', 'Aldebaran II', 'ITA'],\n",
       " ['14', 'Aletta', 'IRL']]"
      ]
     },
     "metadata": {},
     "execution_count": 20
    }
   ],
   "source": [
    "equiposOlimpicosRDD.take(15)"
   ]
  },
  {
   "cell_type": "code",
   "execution_count": 21,
   "metadata": {},
   "outputs": [
    {
     "output_type": "execute_result",
     "data": {
      "text/plain": [
       "231"
      ]
     },
     "metadata": {},
     "execution_count": 21
    }
   ],
   "source": [
    "equiposOlimpicosRDD.map(lambda x: x[2]).distinct().count()"
   ]
  },
  {
   "cell_type": "code",
   "execution_count": 25,
   "metadata": {},
   "outputs": [
    {
     "output_type": "execute_result",
     "data": {
      "text/plain": [
       "[('sigla', 1), ('AUT', 11), ('MEX', 9), ('ARG', 18), ('AFG', 1)]"
      ]
     },
     "metadata": {},
     "execution_count": 25
    }
   ],
   "source": [
    "equiposOlimpicosRDD.map(lambda x: (x[2], x[1])).groupByKey().mapValues(len).take(5)"
   ]
  },
  {
   "cell_type": "code",
   "execution_count": 26,
   "metadata": {},
   "outputs": [
    {
     "output_type": "execute_result",
     "data": {
      "text/plain": [
       "[('sigla', ['equipo']),\n",
       " ('AUT',\n",
       "  ['30. Februar',\n",
       "   'Austria',\n",
       "   'Austria-1',\n",
       "   'Austria-2',\n",
       "   'Breslau',\n",
       "   'Brigantia',\n",
       "   'Donar III',\n",
       "   'Evita VI',\n",
       "   'May-Be 1960',\n",
       "   '\"R.-V. Germania; Leitmeritz\"',\n",
       "   'Surprise']),\n",
       " ('MEX',\n",
       "  ['A North American Team',\n",
       "   'Acipactli',\n",
       "   'Chamukina',\n",
       "   'Mexico',\n",
       "   'Mexico-1',\n",
       "   'Mexico-2',\n",
       "   'Nausikaa 4',\n",
       "   'Tlaloc',\n",
       "   'Xolotl']),\n",
       " ('ARG',\n",
       "  ['Acturus',\n",
       "   'Antares',\n",
       "   'Arcturus',\n",
       "   'Ardilla',\n",
       "   'Argentina',\n",
       "   'Argentina-1',\n",
       "   'Argentina-2',\n",
       "   'Blue Red',\n",
       "   'Covunco III',\n",
       "   'Cupidon III',\n",
       "   'Djinn',\n",
       "   'Gullvinge',\n",
       "   'Matrero II',\n",
       "   'Mizar',\n",
       "   'Pampero',\n",
       "   'Rampage',\n",
       "   'Tango',\n",
       "   'Wiking']),\n",
       " ('AFG', ['Afghanistan'])]"
      ]
     },
     "metadata": {},
     "execution_count": 26
    }
   ],
   "source": [
    "equiposOlimpicosRDD.map(lambda x: (x[2], x[1])).groupByKey().mapValues(list).take(5)\n"
   ]
  },
  {
   "cell_type": "code",
   "execution_count": 52,
   "metadata": {},
   "outputs": [
    {
     "output_type": "execute_result",
     "data": {
      "text/plain": [
       "[['4', 'Acturus', 'ARG'],\n",
       " ['37', 'Antares', 'ARG'],\n",
       " ['42', 'Arcturus', 'ARG'],\n",
       " ['43', 'Ardilla', 'ARG'],\n",
       " ['45', 'Argentina', 'ARG'],\n",
       " ['46', 'Argentina-1', 'ARG'],\n",
       " ['47', 'Argentina-2', 'ARG'],\n",
       " ['119', 'Blue Red', 'ARG'],\n",
       " ['238', 'Covunco III', 'ARG'],\n",
       " ['252', 'Cupidon III', 'ARG'],\n",
       " ['288', 'Djinn', 'ARG'],\n",
       " ['436', 'Gullvinge', 'ARG'],\n",
       " ['644', 'Matrero II', 'ARG'],\n",
       " ['672', 'Mizar', 'ARG'],\n",
       " ['774', 'Pampero', 'ARG'],\n",
       " ['843', 'Rampage', 'ARG'],\n",
       " ['1031', 'Tango', 'ARG'],\n",
       " ['1162', 'Wiking', 'ARG']]"
      ]
     },
     "metadata": {},
     "execution_count": 52
    }
   ],
   "source": [
    "equipos_argentinos = equiposOlimpicosRDD.filter(lambda l: \"ARG\" == l[2])\n",
    "equipos_argentinos.collect()"
   ]
  },
  {
   "cell_type": "code",
   "execution_count": 53,
   "metadata": {},
   "outputs": [
    {
     "output_type": "execute_result",
     "data": {
      "text/plain": [
       "1185"
      ]
     },
     "metadata": {},
     "execution_count": 53
    }
   ],
   "source": [
    "equiposOlimpicosRDD.count()"
   ]
  },
  {
   "cell_type": "code",
   "execution_count": 30,
   "metadata": {},
   "outputs": [
    {
     "output_type": "execute_result",
     "data": {
      "text/plain": [
       "1185"
      ]
     },
     "metadata": {},
     "execution_count": 30
    }
   ],
   "source": [
    "equiposOlimpicosRDD.countApprox()"
   ]
  },
  {
   "cell_type": "code",
   "execution_count": 31,
   "metadata": {},
   "outputs": [
    {
     "output_type": "stream",
     "name": "stdout",
     "text": [
      "deporte.csv\ndeportista.csv\ndeportista2.csv\ndeportistaError.csv\nevento.csv\njuegos.csv\nmodelo_relacional.jpg\npaises.csv\nresultados.csv\n"
     ]
    }
   ],
   "source": [
    "!ls 'files'"
   ]
  },
  {
   "cell_type": "code",
   "execution_count": 48,
   "metadata": {},
   "outputs": [],
   "source": [
    "deportista_olimpico_rdd = sc.textFile('files/deportista.csv').map(lambda l: l.split(','))\n",
    "deportista_olimpico_rdd2 = sc.textFile('files/deportista2.csv').map(lambda l: l.split(','))"
   ]
  },
  {
   "cell_type": "code",
   "execution_count": 49,
   "metadata": {},
   "outputs": [],
   "source": [
    "deportista_olimpico_rdd = deportista_olimpico_rdd.union(deportista_olimpico_rdd2)"
   ]
  },
  {
   "cell_type": "code",
   "execution_count": 74,
   "metadata": {},
   "outputs": [
    {
     "output_type": "execute_result",
     "data": {
      "text/plain": [
       "[['deportista_id', 'nombre', 'genero', 'edad', 'altura', 'peso', 'equipo_id'],\n",
       " ['99999', 'Alexander Grant Alick Rennie', '1', '32', '182', '71', '967'],\n",
       " ['99998', 'Robert John Bob Renney', '1', '21', '178', '90', '66'],\n",
       " ['99997', 'Thomas Renner', '1', '24', '183', '86', '71'],\n",
       " ['99996', 'Sara Renner', '2', '21', '168', '63', '174']]"
      ]
     },
     "metadata": {},
     "execution_count": 74
    }
   ],
   "source": [
    "deportista_olimpico_rdd.top(5)"
   ]
  },
  {
   "cell_type": "code",
   "execution_count": 50,
   "metadata": {},
   "outputs": [
    {
     "output_type": "execute_result",
     "data": {
      "text/plain": [
       "135572"
      ]
     },
     "metadata": {},
     "execution_count": 50
    }
   ],
   "source": [
    "deportista_olimpico_rdd.count()"
   ]
  },
  {
   "cell_type": "code",
   "execution_count": 55,
   "metadata": {},
   "outputs": [
    {
     "output_type": "execute_result",
     "data": {
      "text/plain": [
       "[['deportista_id', 'nombre', 'genero', 'edad', 'altura', 'peso', 'equipo_id'],\n",
       " ['99999', 'Alexander Grant Alick Rennie', '1', '32', '182', '71', '967']]"
      ]
     },
     "metadata": {},
     "execution_count": 55
    }
   ],
   "source": [
    "deportista_olimpico_rdd.top(2)"
   ]
  },
  {
   "cell_type": "code",
   "execution_count": 54,
   "metadata": {},
   "outputs": [
    {
     "output_type": "execute_result",
     "data": {
      "text/plain": [
       "[['id', 'equipo', 'sigla'], ['999', 'Stella-2', 'NOR']]"
      ]
     },
     "metadata": {},
     "execution_count": 54
    }
   ],
   "source": [
    "equiposOlimpicosRDD.top(2)"
   ]
  },
  {
   "cell_type": "code",
   "execution_count": 75,
   "metadata": {},
   "outputs": [
    {
     "output_type": "execute_result",
     "data": {
      "text/plain": [
       "[('980',\n",
       "  (['97228', 'Oleg Alekseyevich Protopopov', '1', '27', '175', '71'], 'URS')),\n",
       " ('174', (['36141', 'Peter Joseph Fonseca', '1', '29', '172', '55'], 'CAN')),\n",
       " ('507', (['11242', 'Diana Bianchedi', '2', '22', '158', '46'], 'ITA')),\n",
       " ('413', (['118900', 'James Jack Taylor', '1', '24', '0', '0'], 'GBR')),\n",
       " ('1065', (['98251', 'Julieon Raeburn', '1', '21', '188', '82'], 'TTO')),\n",
       " ('259', (['62226', 'Jan Koller', '1', '34', '0', '0'], 'TCH'))]"
      ]
     },
     "metadata": {},
     "execution_count": 75
    }
   ],
   "source": [
    "deportista_olimpico_rdd.map(lambda l: [l[-1], l[:-1]]).join(equiposOlimpicosRDD.map(lambda x: [x[0], x[2]])).takeSample(False, 6, 42)"
   ]
  },
  {
   "cell_type": "code",
   "execution_count": 60,
   "metadata": {},
   "outputs": [],
   "source": [
    "resultado = sc.textFile(\"files/resultados.csv\").map(lambda l: l.split(\",\"))"
   ]
  },
  {
   "cell_type": "code",
   "execution_count": 62,
   "metadata": {},
   "outputs": [
    {
     "output_type": "execute_result",
     "data": {
      "text/plain": [
       "[['resultado_id', 'medalla', 'deportista_id', 'juego_id', 'evento_id'],\n",
       " ['1', 'NA', '1', '39', '1'],\n",
       " ['2', 'NA', '2', '49', '2'],\n",
       " ['3', 'NA', '3', '7', '3'],\n",
       " ['4', 'Gold', '4', '2', '4']]"
      ]
     },
     "metadata": {},
     "execution_count": 62
    }
   ],
   "source": [
    "resultado.take(5)"
   ]
  },
  {
   "cell_type": "code",
   "execution_count": 64,
   "metadata": {},
   "outputs": [],
   "source": [
    "resultado_ganadores = resultado.filter(lambda l: \"NA\" not in l[1])"
   ]
  },
  {
   "cell_type": "code",
   "execution_count": 79,
   "metadata": {},
   "outputs": [
    {
     "output_type": "execute_result",
     "data": {
      "text/plain": [
       "[['deportista_id', 'nombre', 'genero', 'edad', 'altura', 'peso', 'equipo_id'],\n",
       " ['99999', 'Alexander Grant Alick Rennie', '1', '32', '182', '71', '967'],\n",
       " ['99998', 'Robert John Bob Renney', '1', '21', '178', '90', '66']]"
      ]
     },
     "metadata": {},
     "execution_count": 79
    }
   ],
   "source": [
    "deportista_olimpico_rdd.top(3)"
   ]
  },
  {
   "cell_type": "code",
   "execution_count": 80,
   "metadata": {},
   "outputs": [
    {
     "output_type": "execute_result",
     "data": {
      "text/plain": [
       "[['id', 'equipo', 'sigla'], ['999', 'Stella-2', 'NOR']]"
      ]
     },
     "metadata": {},
     "execution_count": 80
    }
   ],
   "source": [
    "equiposOlimpicosRDD.top(2)"
   ]
  },
  {
   "cell_type": "code",
   "execution_count": 84,
   "metadata": {},
   "outputs": [
    {
     "output_type": "execute_result",
     "data": {
      "text/plain": [
       "[('999', (['92679', 'Trygve Bjarne Pedersen', '1', '35', '0', '0'], 'NOR')),\n",
       " ('999', (['1144', 'Henrik Agersborg', '1', '47', '0', '0'], 'NOR')),\n",
       " ('999', (['10765', 'Einar Berntsen', '1', '28', '0', '0'], 'NOR')),\n",
       " ('998',\n",
       "  (['111659', 'G. Bernard Bernie Skinner', '1', '34', '182', '82'], 'CAN')),\n",
       " ('996', (['116030', 'Edward Eddy Stutterheim', '1', '39', '0', '0'], 'NED'))]"
      ]
     },
     "metadata": {},
     "execution_count": 84
    }
   ],
   "source": [
    "deportista_olimpico_rdd.map(lambda l : [l[-1],l[:-1]]).join(equiposOlimpicosRDD.map(lambda l : [l[0],l[2]])).top(5)"
   ]
  },
  {
   "cell_type": "code",
   "execution_count": 65,
   "metadata": {},
   "outputs": [
    {
     "output_type": "execute_result",
     "data": {
      "text/plain": [
       "[['resultado_id', 'medalla', 'deportista_id', 'juego_id', 'evento_id'],\n",
       " ['4', 'Gold', '4', '2', '4'],\n",
       " ['38', 'Bronze', '15', '7', '19'],\n",
       " ['39', 'Bronze', '15', '7', '20'],\n",
       " ['41', 'Bronze', '16', '50', '14']]"
      ]
     },
     "metadata": {},
     "execution_count": 65
    }
   ],
   "source": [
    "resultado_ganadores.take(5)"
   ]
  },
  {
   "cell_type": "code",
   "execution_count": 76,
   "metadata": {},
   "outputs": [],
   "source": [
    "deportista_pais = deportista_olimpico_rdd.map(lambda l:[l[-1], l[:-1]]).join(equiposOlimpicosRDD.map(lambda x:[x[0], x[2]]))"
   ]
  },
  {
   "cell_type": "code",
   "execution_count": 77,
   "metadata": {},
   "outputs": [
    {
     "output_type": "execute_result",
     "data": {
      "text/plain": [
       "[('199', (['1', 'A Dijiang', '1', '24', '180', '80'], 'CHN')),\n",
       " ('199', (['2', 'A Lamusi', '1', '23', '170', '60'], 'CHN')),\n",
       " ('199', (['602', 'Abudoureheman', '1', '22', '182', '75'], 'CHN')),\n",
       " ('199', (['1463', 'Ai Linuer', '1', '25', '160', '62'], 'CHN')),\n",
       " ('199', (['1464', 'Ai Yanhan', '2', '14', '168', '54'], 'CHN'))]"
      ]
     },
     "metadata": {},
     "execution_count": 77
    }
   ],
   "source": [
    "deportista_pais.take(5)"
   ]
  },
  {
   "cell_type": "code",
   "execution_count": 92,
   "metadata": {},
   "outputs": [],
   "source": [
    "paises_medallas = (deportista_olimpico_rdd\n",
    "           .map(lambda l : [l[-1],l[:-1]]) \n",
    "           .join(equiposOlimpicosRDD.map(lambda l : [l[0],l[2]]))\n",
    "           .map(lambda l : (l[1][0][0], (l[0],l[1][0][1:],l[1][1]))) \n",
    "           .join(resultado_ganadores.map(lambda l : [l[2],l[1]])))\n"
   ]
  },
  {
   "cell_type": "code",
   "execution_count": 93,
   "metadata": {},
   "outputs": [
    {
     "output_type": "execute_result",
     "data": {
      "text/plain": [
       "[('99996',\n",
       "  (('174', ['Sara Renner', '2', '21', '168', '63'], 'CAN'), 'Silver')),\n",
       " ('99992',\n",
       "  (('399', ['Karlheinz Heinz Renneberg', '1', '25', '182', '87'], 'GER'),\n",
       "   'Gold')),\n",
       " ('9999', (('477', ['Ferenc Bene', '1', '19', '170', '70'], 'HUN'), 'Gold')),\n",
       " ('99988',\n",
       "  (('302', ['Silke Renk Lange ', '2', '21', '173', '75'], 'GDR'), 'Gold')),\n",
       " ('99984',\n",
       "  (('1117', ['Alphonse Renier', '1', '0', '0', '0'], 'BEL'), 'Bronze'))]"
      ]
     },
     "metadata": {},
     "execution_count": 93
    }
   ],
   "source": [
    "paises_medallas.top(5)"
   ]
  },
  {
   "cell_type": "code",
   "execution_count": 78,
   "metadata": {},
   "outputs": [],
   "source": [
    "medals_values = {\n",
    "    'Gold': 7,\n",
    "    'Silver': 5,\n",
    "    'Bronze': 4\n",
    "}"
   ]
  },
  {
   "cell_type": "code",
   "execution_count": 98,
   "metadata": {},
   "outputs": [],
   "source": [
    "paises_medallas = paises_medallas.map(lambda x: (x[1][0][-1], medals_values[x[1][1]]))"
   ]
  },
  {
   "cell_type": "code",
   "execution_count": 100,
   "metadata": {},
   "outputs": [],
   "source": [
    "from operator import add\n",
    "\n",
    "conclusion = paises_medallas.reduceByKey((add)).sortBy(lambda x: x[1], ascending=False)"
   ]
  },
  {
   "cell_type": "code",
   "execution_count": 101,
   "metadata": {},
   "outputs": [
    {
     "output_type": "execute_result",
     "data": {
      "text/plain": [
       "[('USA', 32137),\n",
       " ('URS', 14834),\n",
       " ('GBR', 10925),\n",
       " ('GER', 10896),\n",
       " ('FRA', 9265),\n",
       " ('ITA', 8755),\n",
       " ('SWE', 8110),\n",
       " ('CAN', 7209),\n",
       " ('AUS', 6755),\n",
       " ('HUN', 6142)]"
      ]
     },
     "metadata": {},
     "execution_count": 101
    }
   ],
   "source": [
    "conclusion.take(10)"
   ]
  },
  {
   "cell_type": "code",
   "execution_count": 41,
   "metadata": {},
   "outputs": [],
   "source": [
    "sc.stop()"
   ]
  }
 ]
}