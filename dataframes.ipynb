{
 "metadata": {
  "language_info": {
   "codemirror_mode": {
    "name": "ipython",
    "version": 3
   },
   "file_extension": ".py",
   "mimetype": "text/x-python",
   "name": "python",
   "nbconvert_exporter": "python",
   "pygments_lexer": "ipython3",
   "version": "3.7.4-final"
  },
  "orig_nbformat": 2,
  "kernelspec": {
   "name": "python3",
   "display_name": "Python 3.7.4 64-bit",
   "metadata": {
    "interpreter": {
     "hash": "55e188d73360ef65facbdb428bb41cd562ed6d874a152a3c577c858d595ae713"
    }
   }
  }
 },
 "nbformat": 4,
 "nbformat_minor": 2,
 "cells": [
  {
   "cell_type": "code",
   "execution_count": 47,
   "metadata": {},
   "outputs": [],
   "source": [
    "from pyspark import SparkContext\n",
    "from pyspark.sql import SparkSession\n",
    "\n",
    "from pyspark.sql.types import StructType, StructField, IntegerType, StringType, FloatType\n",
    "from pyspark.sql.types import Row\n",
    "from pyspark.sql import SQLContext"
   ]
  },
  {
   "cell_type": "code",
   "execution_count": 35,
   "metadata": {},
   "outputs": [],
   "source": [
    "spark = SparkContext(master='local', appName='DataFrames')\n",
    "sql_context = SQLContext(spark)"
   ]
  },
  {
   "cell_type": "code",
   "execution_count": 7,
   "metadata": {},
   "outputs": [
    {
     "output_type": "stream",
     "name": "stdout",
     "text": [
      "evento.csv\n",
      "juegos.csv\n",
      "modelo_relacional.jpg\n",
      "paises.csv\n",
      "resultados.csv\n",
      "deporte.csv\n",
      "deportista.csv\n",
      "deportista2.csv\n",
      "deportistaError.csv\n",
      "evento.csv\n",
      "juegos.csv\n",
      "modelo_relacional.jpg\n",
      "paises.csv\n",
      "resultados.csv\n"
     ]
    }
   ],
   "source": [
    "!ls 'files'"
   ]
  },
  {
   "cell_type": "code",
   "execution_count": 8,
   "metadata": {},
   "outputs": [],
   "source": [
    "path = \"files/juegos.csv\""
   ]
  },
  {
   "cell_type": "code",
   "execution_count": 36,
   "metadata": {},
   "outputs": [],
   "source": [
    "juego_schema = StructType([\n",
    "    StructField(\"juego_id\", IntegerType(), False),\n",
    "    StructField(\"anio\", StringType(), False),\n",
    "    StructField(\"temporada\", StringType(), False),\n",
    "    StructField(\"ciudad\", StringType(), False)\n",
    "])\n",
    "\n",
    "juego_df = sql_context.read.schema(juego_schema).option(\"header\", \"true\").csv(path)\n",
    "juego_df.show(4)"
   ]
  },
  {
   "cell_type": "code",
   "execution_count": 13,
   "metadata": {},
   "outputs": [
    {
     "output_type": "stream",
     "name": "stdout",
     "text": [
      "+--------+-----------+---------+------+\n|juego_id|       anio|temporada|ciudad|\n+--------+-----------+---------+------+\n|       1|1896 Verano|     1896|Verano|\n|       2|1900 Verano|     1900|Verano|\n|       3|1904 Verano|     1904|Verano|\n|       4|1906 Verano|     1906|Verano|\n+--------+-----------+---------+------+\nonly showing top 4 rows\n\n"
     ]
    }
   ],
   "source": [
    "juego_df.show(4)"
   ]
  },
  {
   "cell_type": "code",
   "execution_count": 14,
   "metadata": {},
   "outputs": [
    {
     "output_type": "execute_result",
     "data": {
      "text/plain": [
       "<SparkContext master=local appName=DataFrames>"
      ],
      "text/html": "\n        <div>\n            <p><b>SparkContext</b></p>\n\n            <p><a href=\"http://DESKTOP-8DFSQ7I:4040\">Spark UI</a></p>\n\n            <dl>\n              <dt>Version</dt>\n                <dd><code>v3.1.1</code></dd>\n              <dt>Master</dt>\n                <dd><code>local</code></dd>\n              <dt>AppName</dt>\n                <dd><code>DataFrames</code></dd>\n            </dl>\n        </div>\n        "
     },
     "metadata": {},
     "execution_count": 14
    }
   ],
   "source": [
    "spark"
   ]
  },
  {
   "cell_type": "code",
   "execution_count": 71,
   "metadata": {},
   "outputs": [],
   "source": [
    "deportista_olimpico_rdd = spark.textFile('files/deportista2.csv').map(lambda l: l.split(','))"
   ]
  },
  {
   "cell_type": "code",
   "execution_count": 38,
   "metadata": {},
   "outputs": [
    {
     "output_type": "execute_result",
     "data": {
      "text/plain": [
       "[['deportista_id', 'nombre', 'genero', 'edad', 'altura', 'peso', 'equipo_id'],\n",
       " ['1', 'A Dijiang', '1', '24', '180', '80', '199'],\n",
       " ['2', 'A Lamusi', '1', '23', '170', '60', '199'],\n",
       " ['3', 'Gunnar Nielsen Aaby', '1', '24', '0', '0', '273'],\n",
       " ['4', 'Edgar Lindenau Aabye', '1', '34', '0', '0', '278']]"
      ]
     },
     "metadata": {},
     "execution_count": 38
    }
   ],
   "source": [
    "deportista_olimpico_rdd.take(5)"
   ]
  },
  {
   "cell_type": "code",
   "execution_count": 39,
   "metadata": {},
   "outputs": [],
   "source": [
    "def elimina_encabezado(indice, iterador):\n",
    "    return iter(list(iterador)[1:])"
   ]
  },
  {
   "cell_type": "code",
   "execution_count": 72,
   "metadata": {},
   "outputs": [],
   "source": [
    "deportista_olimpico_rdd = deportista_olimpico_rdd.mapPartitionsWithIndex(elimina_encabezado)"
   ]
  },
  {
   "cell_type": "code",
   "execution_count": 41,
   "metadata": {},
   "outputs": [
    {
     "output_type": "execute_result",
     "data": {
      "text/plain": [
       "[['1', 'A Dijiang', '1', '24', '180', '80', '199'],\n",
       " ['2', 'A Lamusi', '1', '23', '170', '60', '199'],\n",
       " ['3', 'Gunnar Nielsen Aaby', '1', '24', '0', '0', '273'],\n",
       " ['4', 'Edgar Lindenau Aabye', '1', '34', '0', '0', '278'],\n",
       " ['5', 'Christine Jacoba Aaftink', '2', '21', '185', '82', '705']]"
      ]
     },
     "metadata": {},
     "execution_count": 41
    }
   ],
   "source": [
    "deportista_olimpico_rdd.take(5)"
   ]
  },
  {
   "cell_type": "code",
   "execution_count": 73,
   "metadata": {},
   "outputs": [],
   "source": [
    "deportista_olimpico_rdd = deportista_olimpico_rdd.map(lambda l: (\n",
    "    int(l[0]), l[1], int(l[2]), int(l[3]), int(l[4]), float(l[5]), int(l[6])\n",
    "))\n",
    "schema = StructType([\n",
    "    StructField(\"deportista_id\", IntegerType(), False),\n",
    "    StructField(\"nombre\", StringType(), False),\n",
    "    StructField(\"genero\", IntegerType(), False),\n",
    "    StructField(\"edad\", IntegerType(), False),\n",
    "    StructField(\"altura\", IntegerType(), False),\n",
    "    StructField(\"peso\", FloatType(), False),\n",
    "    StructField(\"equipo_id\", IntegerType(), False),\n",
    "])\n",
    "deportista_df = sql_context.createDataFrame(deportista_olimpico_rdd, schema)"
   ]
  },
  {
   "cell_type": "code",
   "execution_count": 74,
   "metadata": {},
   "outputs": [
    {
     "output_type": "stream",
     "name": "stdout",
     "text": [
      "+-------------+--------------------+------+----+------+----+---------+\n|deportista_id|              nombre|genero|edad|altura|peso|equipo_id|\n+-------------+--------------------+------+----+------+----+---------+\n|        67788|            Lee BuTi|     1|  23|   164|54.0|      203|\n|        67789|Anthony N. Buddy Lee|     1|  34|   172|62.0|     1096|\n|        67790|Alfred A. Butch L...|     1|  19|   186|80.0|      825|\n|        67791|        Lee ByeongGu|     1|  22|   175|68.0|      970|\n+-------------+--------------------+------+----+------+----+---------+\nonly showing top 4 rows\n\n"
     ]
    }
   ],
   "source": [
    "deportista_df.show(4)"
   ]
  },
  {
   "cell_type": "code",
   "execution_count": 49,
   "metadata": {},
   "outputs": [],
   "source": [
    "paises_rdd = spark.textFile(\"files/paises.csv\").map(lambda l: l.split(\",\"))\n",
    "paises_rdd = paises_rdd.mapPartitionsWithIndex(elimina_encabezado)\n",
    "paises_rdd = paises_rdd.map(lambda l: (int(l[0]), l[1], l[2]))\n",
    "\n",
    "schema = StructType([\n",
    "    StructField(\"id\", IntegerType(), False),\n",
    "    StructField(\"equipo\", StringType(), False),\n",
    "    StructField(\"sigle\", StringType(), False),\n",
    "])\n",
    "\n",
    "paises_df = sql_context.createDataFrame(paises_rdd, schema)"
   ]
  },
  {
   "cell_type": "code",
   "execution_count": 50,
   "metadata": {},
   "outputs": [
    {
     "output_type": "stream",
     "name": "stdout",
     "text": [
      "+---+--------------------+-----+\n| id|              equipo|sigle|\n+---+--------------------+-----+\n|  1|         30. Februar|  AUT|\n|  2|A North American ...|  MEX|\n|  3|           Acipactli|  MEX|\n+---+--------------------+-----+\nonly showing top 3 rows\n\n"
     ]
    }
   ],
   "source": [
    "paises_df.show(3)"
   ]
  },
  {
   "cell_type": "code",
   "execution_count": 60,
   "metadata": {},
   "outputs": [
    {
     "output_type": "stream",
     "name": "stdout",
     "text": [
      "+------------+-------+-------------+--------+---------+\n|resultado_id|medalla|deportista_id|juego_id|evento_id|\n+------------+-------+-------------+--------+---------+\n|           1|     NA|            1|      39|        1|\n|           2|     NA|            2|      49|        2|\n|           3|     NA|            3|       7|        3|\n|           4|   Gold|            4|       2|        4|\n+------------+-------+-------------+--------+---------+\nonly showing top 4 rows\n\n"
     ]
    }
   ],
   "source": [
    "resultados_schema = StructType([\n",
    "    StructField(\"resultado_id\", IntegerType(), False),\n",
    "    StructField(\"medalla\", StringType(), False),\n",
    "    StructField(\"deportista_id\", IntegerType(), False),\n",
    "    StructField(\"juego_id\", IntegerType(), False),\n",
    "    StructField(\"evento_id\", IntegerType(), False)\n",
    "])\n",
    "\n",
    "resultados_df = sql_context.read.format(\"csv\").\\\n",
    "            option(\"header\", True).\\\n",
    "            schema(resultados_schema).\\\n",
    "            load(\"files/resultados.csv\")\n",
    "\n",
    "resultados_df.show(4)"
   ]
  },
  {
   "cell_type": "code",
   "execution_count": 55,
   "metadata": {},
   "outputs": [
    {
     "output_type": "stream",
     "name": "stdout",
     "text": [
      "+----------+----------+\n|deporte_id|   deporte|\n+----------+----------+\n|         1|Basketball|\n|         2|      Judo|\n|         3|  Football|\n|         4|Tug-Of-War|\n+----------+----------+\nonly showing top 4 rows\n\n"
     ]
    }
   ],
   "source": [
    "deporte_schema = StructType([\n",
    "    StructField(\"deporte_id\", IntegerType(), False),\n",
    "    StructField(\"deporte\", StringType(), False),\n",
    "])\n",
    "deporte_df = sql_context.read.format(\"csv\").\\\n",
    "        option(\"header\", True).\\\n",
    "        schema(deporte_schema).\\\n",
    "        load(\"files/deporte.csv\")\n",
    "deporte_df.show(4)"
   ]
  },
  {
   "cell_type": "code",
   "execution_count": 56,
   "metadata": {},
   "outputs": [
    {
     "output_type": "stream",
     "name": "stdout",
     "text": [
      "+---------+--------------------+----------+\n|evento_id|              evento|deporte_id|\n+---------+--------------------+----------+\n|        1|Basketball Men's ...|         1|\n|        2|Judo Men's Extra-...|         2|\n|        3|Football Men's Fo...|         3|\n|        4|Tug-Of-War Men's ...|         4|\n+---------+--------------------+----------+\nonly showing top 4 rows\n\n"
     ]
    }
   ],
   "source": [
    "evento_schema = StructType([\n",
    "    StructField(\"evento_id\", IntegerType(), False),\n",
    "    StructField(\"evento\", StringType(), False), \n",
    "    StructField(\"deporte_id\", IntegerType(), False)\n",
    "])\n",
    "evento_df = sql_context.read.format(\"csv\").\\\n",
    "        option(\"header\", True).\\\n",
    "        schema(evento_schema).\\\n",
    "        load(\"files/evento.csv\")\n",
    "\n",
    "evento_df.show(4)"
   ]
  },
  {
   "cell_type": "code",
   "execution_count": 61,
   "metadata": {},
   "outputs": [
    {
     "output_type": "stream",
     "name": "stdout",
     "text": [
      "root\n |-- deporte_id: integer (nullable = true)\n |-- deporte: string (nullable = true)\n\n"
     ]
    }
   ],
   "source": [
    "deporte_df.printSchema()"
   ]
  },
  {
   "cell_type": "code",
   "execution_count": 62,
   "metadata": {},
   "outputs": [
    {
     "output_type": "stream",
     "name": "stdout",
     "text": [
      "root\n |-- deportista_id: integer (nullable = false)\n |-- nombre: string (nullable = false)\n |-- genero: integer (nullable = false)\n |-- edad: integer (nullable = false)\n |-- altura: integer (nullable = false)\n |-- peso: float (nullable = false)\n |-- equipo_id: integer (nullable = false)\n\n"
     ]
    }
   ],
   "source": [
    "deportista_df.printSchema()"
   ]
  },
  {
   "cell_type": "code",
   "execution_count": 75,
   "metadata": {},
   "outputs": [],
   "source": [
    "deportista_df_2 = deportista_df.withColumnRenamed(\"genero\", \"sexo\").drop(\"alture\")"
   ]
  },
  {
   "cell_type": "code",
   "execution_count": 76,
   "metadata": {},
   "outputs": [
    {
     "output_type": "stream",
     "name": "stdout",
     "text": [
      "root\n |-- deportista_id: integer (nullable = false)\n |-- nombre: string (nullable = false)\n |-- sexo: integer (nullable = false)\n |-- edad: integer (nullable = false)\n |-- altura: integer (nullable = false)\n |-- peso: float (nullable = false)\n |-- equipo_id: integer (nullable = false)\n\n"
     ]
    }
   ],
   "source": [
    "deportista_df_2.printSchema()"
   ]
  },
  {
   "cell_type": "code",
   "execution_count": 77,
   "metadata": {},
   "outputs": [],
   "source": [
    "from pyspark.sql.functions import *\n",
    "consulta_deportista = deportista_df_2.select(\"deportista_id\", \"nombre\", col(\"edad\").alias(\"edadAlJugar\"), \"equipo_id\")"
   ]
  },
  {
   "cell_type": "code",
   "execution_count": 78,
   "metadata": {},
   "outputs": [
    {
     "output_type": "stream",
     "name": "stdout",
     "text": [
      "+-------------+--------------------+-----------+---------+\n|deportista_id|              nombre|edadAlJugar|equipo_id|\n+-------------+--------------------+-----------+---------+\n|        67788|            Lee BuTi|         23|      203|\n|        67789|Anthony N. Buddy Lee|         34|     1096|\n|        67790|Alfred A. Butch L...|         19|      825|\n|        67791|        Lee ByeongGu|         22|      970|\n|        67792|       Lee ByeongGyu|         21|      970|\n+-------------+--------------------+-----------+---------+\nonly showing top 5 rows\n\n"
     ]
    }
   ],
   "source": [
    "consulta_deportista.show(5)"
   ]
  },
  {
   "cell_type": "code",
   "execution_count": 79,
   "metadata": {},
   "outputs": [],
   "source": [
    "consulta_deportista = consulta_deportista.filter((consulta_deportista.edadAlJugar != 0))"
   ]
  },
  {
   "cell_type": "code",
   "execution_count": 80,
   "metadata": {},
   "outputs": [
    {
     "output_type": "stream",
     "name": "stdout",
     "text": [
      "+-------------+--------------------+-----------+---------+\n|deportista_id|              nombre|edadAlJugar|equipo_id|\n+-------------+--------------------+-----------+---------+\n|        71691|  Dimitrios Loundras|         10|      333|\n|       118925|Megan Olwen Deven...|         11|      413|\n|        70616|          Liu Luyang|         11|      199|\n|       126307|        Liana Vicens|         11|      825|\n|        76675|   Marcelle Matthews|         11|      967|\n+-------------+--------------------+-----------+---------+\nonly showing top 5 rows\n\n"
     ]
    }
   ],
   "source": [
    "consulta_deportista.sort(\"edadAlJugar\").show(5)"
   ]
  },
  {
   "cell_type": "code",
   "execution_count": 33,
   "metadata": {},
   "outputs": [],
   "source": [
    "spark.stop()"
   ]
  }
 ]
}