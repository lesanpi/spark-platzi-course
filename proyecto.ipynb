{
 "metadata": {
  "language_info": {
   "codemirror_mode": {
    "name": "ipython",
    "version": 3
   },
   "file_extension": ".py",
   "mimetype": "text/x-python",
   "name": "python",
   "nbconvert_exporter": "python",
   "pygments_lexer": "ipython3",
   "version": "3.7.4-final"
  },
  "orig_nbformat": 2,
  "kernelspec": {
   "name": "python3",
   "display_name": "Python 3.7.4 64-bit",
   "metadata": {
    "interpreter": {
     "hash": "55e188d73360ef65facbdb428bb41cd562ed6d874a152a3c577c858d595ae713"
    }
   }
  }
 },
 "nbformat": 4,
 "nbformat_minor": 2,
 "cells": [
  {
   "cell_type": "code",
   "execution_count": 101,
   "metadata": {},
   "outputs": [],
   "source": [
    "spark.stop()"
   ]
  },
  {
   "cell_type": "code",
   "execution_count": 1,
   "metadata": {},
   "outputs": [],
   "source": [
    "from pyspark import SparkContext\n",
    "from pyspark.sql import SparkSession\n",
    "\n",
    "from pyspark.sql.types import StructType, StructField, IntegerType, StringType, FloatType\n",
    "from pyspark.sql.types import Row\n",
    "from pyspark.sql import SQLContext\n",
    "\n",
    "from pyspark.sql.functions import *\n"
   ]
  },
  {
   "cell_type": "code",
   "execution_count": 102,
   "metadata": {},
   "outputs": [],
   "source": [
    "spark = SparkContext(master='local', appName='DataFrames')\n",
    "sql_context = SQLContext(spark)"
   ]
  },
  {
   "cell_type": "code",
   "execution_count": 103,
   "metadata": {},
   "outputs": [
    {
     "output_type": "stream",
     "name": "stdout",
     "text": [
      "+--------+-----------+---------+------+\n|juego_id|       anio|temporada|ciudad|\n+--------+-----------+---------+------+\n|       1|1896 Verano|     1896|Verano|\n|       2|1900 Verano|     1900|Verano|\n|       3|1904 Verano|     1904|Verano|\n|       4|1906 Verano|     1906|Verano|\n+--------+-----------+---------+------+\nonly showing top 4 rows\n\n"
     ]
    }
   ],
   "source": [
    "juego_schema = StructType([\n",
    "    StructField(\"juego_id\", IntegerType(), False),\n",
    "    StructField(\"anio\", StringType(), False),\n",
    "    StructField(\"temporada\", StringType(), False),\n",
    "    StructField(\"ciudad\", StringType(), False)\n",
    "])\n",
    "\n",
    "juego_df = sql_context.read.schema(juego_schema).option(\"header\", \"true\").csv(\"files/juegos.csv\")\n",
    "juego_df.show(4)"
   ]
  },
  {
   "cell_type": "code",
   "execution_count": 104,
   "metadata": {},
   "outputs": [],
   "source": [
    "def elimina_encabezado(indice, iterador):\n",
    "    return iter(list(iterador)[1:])"
   ]
  },
  {
   "cell_type": "code",
   "execution_count": 105,
   "metadata": {},
   "outputs": [
    {
     "output_type": "stream",
     "name": "stdout",
     "text": [
      "+-------------+--------------------+------+----+------+----+---------+\n|deportista_id|              nombre|genero|edad|altura|peso|equipo_id|\n+-------------+--------------------+------+----+------+----+---------+\n|        67788|            Lee BuTi|     1|  23|   164|54.0|      203|\n|        67789|Anthony N. Buddy Lee|     1|  34|   172|62.0|     1096|\n|        67790|Alfred A. Butch L...|     1|  19|   186|80.0|      825|\n|        67791|        Lee ByeongGu|     1|  22|   175|68.0|      970|\n+-------------+--------------------+------+----+------+----+---------+\nonly showing top 4 rows\n\n"
     ]
    }
   ],
   "source": [
    "deportista_olimpico_rdd = spark.textFile('files/deportista2.csv').map(lambda l: l.split(','))\n",
    "deportista_olimpico_rdd = deportista_olimpico_rdd.mapPartitionsWithIndex(elimina_encabezado)\n",
    "\n",
    "deportista_olimpico_rdd = deportista_olimpico_rdd.map(lambda l: (\n",
    "    int(l[0]), l[1], int(l[2]), int(l[3]), int(l[4]), float(l[5]), int(l[6])\n",
    "))\n",
    "schema = StructType([\n",
    "    StructField(\"deportista_id\", IntegerType(), False),\n",
    "    StructField(\"nombre\", StringType(), False),\n",
    "    StructField(\"genero\", IntegerType(), False),\n",
    "    StructField(\"edad\", IntegerType(), False),\n",
    "    StructField(\"altura\", IntegerType(), False),\n",
    "    StructField(\"peso\", FloatType(), False),\n",
    "    StructField(\"equipo_id\", IntegerType(), False),\n",
    "])\n",
    "deportista_df = sql_context.createDataFrame(deportista_olimpico_rdd, schema)\n",
    "\n",
    "deportista_df.show(4)"
   ]
  },
  {
   "cell_type": "code",
   "execution_count": 106,
   "metadata": {},
   "outputs": [
    {
     "output_type": "stream",
     "name": "stdout",
     "text": [
      "+---+--------------------+-----+\n| id|              equipo|sigle|\n+---+--------------------+-----+\n|  1|         30. Februar|  AUT|\n|  2|A North American ...|  MEX|\n|  3|           Acipactli|  MEX|\n+---+--------------------+-----+\nonly showing top 3 rows\n\n"
     ]
    }
   ],
   "source": [
    "paises_rdd = spark.textFile(\"files/paises.csv\").map(lambda l: l.split(\",\"))\n",
    "paises_rdd = paises_rdd.mapPartitionsWithIndex(elimina_encabezado)\n",
    "paises_rdd = paises_rdd.map(lambda l: (int(l[0]), l[1], l[2]))\n",
    "\n",
    "schema = StructType([\n",
    "    StructField(\"id\", IntegerType(), False),\n",
    "    StructField(\"equipo\", StringType(), False),\n",
    "    StructField(\"sigle\", StringType(), False),\n",
    "])\n",
    "\n",
    "paises_df = sql_context.createDataFrame(paises_rdd, schema)\n",
    "paises_df.show(3)"
   ]
  },
  {
   "cell_type": "code",
   "execution_count": 107,
   "metadata": {},
   "outputs": [
    {
     "output_type": "stream",
     "name": "stdout",
     "text": [
      "+------------+-------+-------------+--------+---------+\n|resultado_id|medalla|deportista_id|juego_id|evento_id|\n+------------+-------+-------------+--------+---------+\n|           1|     NA|            1|      39|        1|\n|           2|     NA|            2|      49|        2|\n|           3|     NA|            3|       7|        3|\n|           4|   Gold|            4|       2|        4|\n+------------+-------+-------------+--------+---------+\nonly showing top 4 rows\n\n"
     ]
    }
   ],
   "source": [
    "resultados_schema = StructType([\n",
    "    StructField(\"resultado_id\", IntegerType(), False),\n",
    "    StructField(\"medalla\", StringType(), False),\n",
    "    StructField(\"deportista_id\", IntegerType(), False),\n",
    "    StructField(\"juego_id\", IntegerType(), False),\n",
    "    StructField(\"evento_id\", IntegerType(), False)\n",
    "])\n",
    "\n",
    "resultados_df = sql_context.read.format(\"csv\").\\\n",
    "            option(\"header\", True).\\\n",
    "            schema(resultados_schema).\\\n",
    "            load(\"files/resultados.csv\")\n",
    "\n",
    "resultados_df.show(4)"
   ]
  },
  {
   "cell_type": "code",
   "execution_count": 108,
   "metadata": {},
   "outputs": [
    {
     "output_type": "stream",
     "name": "stdout",
     "text": [
      "+---------+--------------------+----------+\n|evento_id|             deporte|deporte_id|\n+---------+--------------------+----------+\n|        1|Basketball Men's ...|         1|\n|        2|Judo Men's Extra-...|         2|\n|        3|Football Men's Fo...|         3|\n|        4|Tug-Of-War Men's ...|         4|\n+---------+--------------------+----------+\nonly showing top 4 rows\n\n"
     ]
    }
   ],
   "source": [
    "deporte_schema = StructType([\n",
    "    StructField(\"evento_id\", IntegerType(), False),\n",
    "    StructField(\"deporte\", StringType(), False),\n",
    "    StructField(\"deporte_id\", IntegerType(), False),\n",
    "])\n",
    "deporte_df = sql_context.read.format(\"csv\").\\\n",
    "        option(\"header\", True).\\\n",
    "        schema(deporte_schema).\\\n",
    "        load(\"files/evento.csv\")\n",
    "deporte_df.show(4)"
   ]
  },
  {
   "cell_type": "code",
   "execution_count": 109,
   "metadata": {},
   "outputs": [
    {
     "output_type": "stream",
     "name": "stdout",
     "text": [
      "+---------+--------------------+----------+\n|evento_id|              evento|deporte_id|\n+---------+--------------------+----------+\n|        1|Basketball Men's ...|         1|\n|        2|Judo Men's Extra-...|         2|\n|        3|Football Men's Fo...|         3|\n|        4|Tug-Of-War Men's ...|         4|\n+---------+--------------------+----------+\nonly showing top 4 rows\n\n"
     ]
    }
   ],
   "source": [
    "evento_schema = StructType([\n",
    "    StructField(\"evento_id\", IntegerType(), False),\n",
    "    StructField(\"evento\", StringType(), False), \n",
    "    StructField(\"deporte_id\", IntegerType(), False)\n",
    "])\n",
    "evento_df = sql_context.read.format(\"csv\").\\\n",
    "        option(\"header\", True).\\\n",
    "        schema(evento_schema).\\\n",
    "        load(\"files/evento.csv\")\n",
    "\n",
    "evento_df.show(4)"
   ]
  },
  {
   "cell_type": "code",
   "execution_count": 110,
   "metadata": {},
   "outputs": [
    {
     "output_type": "stream",
     "name": "stdout",
     "text": [
      "root\n |-- deportista_id: integer (nullable = false)\n |-- nombre: string (nullable = false)\n |-- genero: integer (nullable = false)\n |-- edad: integer (nullable = false)\n |-- altura: integer (nullable = false)\n |-- peso: float (nullable = false)\n |-- equipo_id: integer (nullable = false)\n\n"
     ]
    }
   ],
   "source": [
    "deportista_df.printSchema()"
   ]
  },
  {
   "cell_type": "code",
   "execution_count": 111,
   "metadata": {},
   "outputs": [
    {
     "output_type": "stream",
     "name": "stdout",
     "text": [
      "root\n |-- resultado_id: integer (nullable = true)\n |-- medalla: string (nullable = true)\n |-- deportista_id: integer (nullable = true)\n |-- juego_id: integer (nullable = true)\n |-- evento_id: integer (nullable = true)\n\n"
     ]
    }
   ],
   "source": [
    "resultados_df.printSchema()"
   ]
  },
  {
   "cell_type": "code",
   "execution_count": 112,
   "metadata": {},
   "outputs": [
    {
     "output_type": "stream",
     "name": "stdout",
     "text": [
      "root\n |-- juego_id: integer (nullable = true)\n |-- anio: string (nullable = true)\n |-- temporada: string (nullable = true)\n |-- ciudad: string (nullable = true)\n\n"
     ]
    }
   ],
   "source": [
    "juego_df.printSchema()"
   ]
  },
  {
   "cell_type": "code",
   "execution_count": 113,
   "metadata": {},
   "outputs": [
    {
     "output_type": "stream",
     "name": "stdout",
     "text": [
      "root\n |-- id: integer (nullable = false)\n |-- equipo: string (nullable = false)\n |-- sigle: string (nullable = false)\n\n"
     ]
    }
   ],
   "source": [
    "paises_df.printSchema()"
   ]
  },
  {
   "cell_type": "code",
   "execution_count": 114,
   "metadata": {},
   "outputs": [
    {
     "output_type": "stream",
     "name": "stdout",
     "text": [
      "root\n |-- evento_id: integer (nullable = true)\n |-- deporte: string (nullable = true)\n |-- deporte_id: integer (nullable = true)\n\n"
     ]
    }
   ],
   "source": [
    "deporte_df.printSchema()"
   ]
  },
  {
   "cell_type": "code",
   "execution_count": 115,
   "metadata": {},
   "outputs": [
    {
     "output_type": "stream",
     "name": "stdout",
     "text": [
      "root\n |-- evento_id: integer (nullable = true)\n |-- evento: string (nullable = true)\n |-- deporte_id: integer (nullable = true)\n\n"
     ]
    }
   ],
   "source": [
    "evento_df.printSchema()"
   ]
  },
  {
   "cell_type": "code",
   "execution_count": 116,
   "metadata": {},
   "outputs": [
    {
     "output_type": "stream",
     "name": "stdout",
     "text": [
      "+---------+--------------------+----------+\n|evento_id|              evento|deporte_id|\n+---------+--------------------+----------+\n|        1|Basketball Men's ...|         1|\n|        2|Judo Men's Extra-...|         2|\n|        3|Football Men's Fo...|         3|\n|        4|Tug-Of-War Men's ...|         4|\n|        5|Speed Skating Wom...|         5|\n|        6|Speed Skating Wom...|         5|\n|        7|Cross Country Ski...|         6|\n|        8|Cross Country Ski...|         6|\n|        9|Cross Country Ski...|         6|\n|       10|Cross Country Ski...|         6|\n|       11|Cross Country Ski...|         6|\n|       12|Athletics Women's...|         7|\n|       13|Athletics Women's...|         7|\n|       14|Ice Hockey Men's ...|         8|\n|       15|Swimming Men's 40...|         9|\n|       16|Badminton Men's S...|        10|\n|       17|Sailing Women's W...|        11|\n|       18|Biathlon Women's ...|        12|\n|       19|Swimming Men's 20...|         9|\n|       20|Swimming Men's 40...|         9|\n+---------+--------------------+----------+\nonly showing top 20 rows\n\n"
     ]
    }
   ],
   "source": [
    "evento_df.show()"
   ]
  },
  {
   "cell_type": "code",
   "execution_count": 117,
   "metadata": {},
   "outputs": [
    {
     "output_type": "stream",
     "name": "stdout",
     "text": [
      "+--------------------+-------------+-------+------------+--------------------+\n|              nombre|Edad al jugar|medalla|Año de juego|          Disciplina|\n+--------------------+-------------+-------+------------+--------------------+\n|            Lee BuTi|           23|     NA| 1964 Verano|Gymnastics Men's ...|\n|            Lee BuTi|           23|     NA| 1964 Verano|Gymnastics Men's ...|\n|            Lee BuTi|           23|     NA| 1964 Verano|Gymnastics Men's ...|\n|            Lee BuTi|           23|     NA| 1964 Verano|Gymnastics Men's ...|\n|            Lee BuTi|           23|     NA| 1964 Verano|Gymnastics Men's ...|\n|            Lee BuTi|           23|     NA| 1964 Verano|Gymnastics Men's ...|\n|            Lee BuTi|           23|     NA| 1964 Verano|Gymnastics Men's ...|\n|            Lee BuTi|           23|     NA| 1964 Verano|Gymnastics Men's ...|\n|Anthony N. Buddy Lee|           34|     NA| 1992 Verano|Wrestling Men's F...|\n|Alfred A. Butch L...|           19|     NA| 1976 Verano|Basketball Men's ...|\n|        Lee ByeongGu|           22|     NA| 1968 Verano|Basketball Men's ...|\n|        Lee ByeongGu|           22|     NA| 1964 Verano|Basketball Men's ...|\n|       Lee ByeongGyu|           21| Bronze| 2000 Verano|Baseball Men's Ba...|\n|       Lee ByeongGyu|           21|     NA| 1996 Verano|Baseball Men's Ba...|\n|        Lee ByeongIn|           20|     NA| 1988 Verano|Rowing Women's Co...|\n|       Lee ByeongNam|           24|     NA| 1988 Verano|Fencing Men's Sab...|\n|       Lee ByeongNam|           24|     NA| 1988 Verano|Fencing Men's Sab...|\n|      Lee ByeongYong|           29|     NA| 2000 Verano|Volleyball Men's ...|\n|  Kar Wai Calvin Lee|           29|     NA| 2012 Verano|Archery Men's Ind...|\n|          Lee ChaeOn|           25|     NA| 1988 Verano|Volleyball Men's ...|\n+--------------------+-------------+-------+------------+--------------------+\nonly showing top 20 rows\n\n"
     ]
    }
   ],
   "source": [
    "deportista_df.join(resultados_df, deportista_df.deportista_id == resultados_df.deportista_id, \"left\").join(juego_df, juego_df.juego_id == resultados_df.juego_id, \"left\").join(deporte_df, deporte_df.evento_id == resultados_df.evento_id, \"left\").select(\"nombre\", col(\"edad\").alias(\"Edad al jugar\"), \"medalla\", col(\"anio\").alias(\"Año de juego\"), col(\"deporte\").alias(\"Disciplina\")).show()"
   ]
  },
  {
   "cell_type": "code",
   "execution_count": 118,
   "metadata": {},
   "outputs": [
    {
     "output_type": "stream",
     "name": "stdout",
     "text": [
      "+---+--------------------+-----+\n| id|              equipo|sigle|\n+---+--------------------+-----+\n|  1|         30. Februar|  AUT|\n|  2|A North American ...|  MEX|\n|  3|           Acipactli|  MEX|\n|  4|             Acturus|  ARG|\n|  5|         Afghanistan|  AFG|\n|  6|            Akatonbo|  IRL|\n|  7|            Alain IV|  SUI|\n|  8|             Albania|  ALB|\n|  9|              Alcaid|  POR|\n| 10|            Alcyon-6|  FRA|\n| 11|            Alcyon-7|  FRA|\n| 12|           Aldebaran|  ITA|\n| 13|        Aldebaran II|  ITA|\n| 14|              Aletta|  IRL|\n| 15|             Algeria|  ALG|\n| 16|         Ali-Baba II|  SWE|\n| 17|         Ali-Baba IV|  SUI|\n| 18|         Ali-Baba IX|  SUI|\n| 19|         Ali-Baba VI|  SUI|\n| 20|             Allegro|  FRA|\n+---+--------------------+-----+\nonly showing top 20 rows\n\n"
     ]
    }
   ],
   "source": [
    "paises_df.show()"
   ]
  },
  {
   "cell_type": "code",
   "execution_count": 119,
   "metadata": {},
   "outputs": [
    {
     "output_type": "stream",
     "name": "stdout",
     "text": [
      "+------------+-------+-------------+--------+---------+\n|resultado_id|medalla|deportista_id|juego_id|evento_id|\n+------------+-------+-------------+--------+---------+\n|           1|     NA|            1|      39|        1|\n|           2|     NA|            2|      49|        2|\n|           3|     NA|            3|       7|        3|\n|           4|   Gold|            4|       2|        4|\n+------------+-------+-------------+--------+---------+\nonly showing top 4 rows\n\n"
     ]
    }
   ],
   "source": [
    "resultados_df.show(4)"
   ]
  },
  {
   "cell_type": "code",
   "execution_count": 120,
   "metadata": {},
   "outputs": [
    {
     "output_type": "stream",
     "name": "stdout",
     "text": [
      "+-------+----------+-----+\n|medalla|    equipo|sigle|\n+-------+----------+-----+\n|   Gold|  Zimbabwe|  ZIM|\n|   Gold|  Zimbabwe|  ZIM|\n|   Gold|  Zimbabwe|  ZIM|\n|   Gold|  Zimbabwe|  ZIM|\n|   Gold|  Zimbabwe|  ZIM|\n|   Gold|  Zimbabwe|  ZIM|\n|   Gold|  Zimbabwe|  ZIM|\n| Bronze|    Zambia|  ZAM|\n| Silver|    Zambia|  ZAM|\n| Bronze|Yugoslavia|  YUG|\n| Bronze|Yugoslavia|  YUG|\n|   Gold|Yugoslavia|  YUG|\n|   Gold|Yugoslavia|  YUG|\n| Silver|Yugoslavia|  YUG|\n|   Gold|Yugoslavia|  YUG|\n|   Gold|Yugoslavia|  YUG|\n| Bronze|Yugoslavia|  YUG|\n| Silver|Yugoslavia|  YUG|\n|   Gold|Yugoslavia|  YUG|\n| Silver|Yugoslavia|  YUG|\n+-------+----------+-----+\nonly showing top 20 rows\n\n"
     ]
    }
   ],
   "source": [
    "resultados_df.filter(resultados_df.medalla != \"NA\").join(deportista_df, deportista_df.deportista_id == resultados_df.deportista_id, \"left\").join(paises_df, paises_df.id == deportista_df.equipo_id).select(\"medalla\", \"equipo\", \"sigle\").sort(col(\"sigle\").desc()).show()"
   ]
  },
  {
   "cell_type": "code",
   "execution_count": 121,
   "metadata": {},
   "outputs": [
    {
     "output_type": "stream",
     "name": "stdout",
     "text": [
      "+------------+-------+-------------+--------+---------+\n",
      "|resultado_id|medalla|deportista_id|juego_id|evento_id|\n",
      "+------------+-------+-------------+--------+---------+\n",
      "|           4|   Gold|            4|       2|        4|\n",
      "|          38| Bronze|           15|       7|       19|\n",
      "|          39| Bronze|           15|       7|       20|\n",
      "|          41| Bronze|           16|      50|       14|\n",
      "+------------+-------+-------------+--------+---------+\n",
      "only showing top 4 rows\n",
      "\n"
     ]
    }
   ],
   "source": [
    "resultados_df2 = resultados_df.filter(resultados_df.medalla != \"NA\")\n",
    "\n",
    "resultados_df2.show(4)"
   ]
  },
  {
   "cell_type": "code",
   "execution_count": 122,
   "metadata": {},
   "outputs": [
    {
     "output_type": "stream",
     "name": "stdout",
     "text": [
      "+------------+-------+-------------+--------+---------+\n",
      "|resultado_id|medalla|deportista_id|juego_id|evento_id|\n",
      "+------------+-------+-------------+--------+---------+\n",
      "|           1|     NA|            1|      39|        1|\n",
      "|           2|     NA|            2|      49|        2|\n",
      "|           3|     NA|            3|       7|        3|\n",
      "|           4|   Gold|            4|       2|        4|\n",
      "+------------+-------+-------------+--------+---------+\n",
      "only showing top 4 rows\n",
      "\n"
     ]
    }
   ],
   "source": [
    "resultados_df.show(4)"
   ]
  },
  {
   "cell_type": "code",
   "execution_count": 178,
   "metadata": {},
   "outputs": [],
   "source": [
    "medallistaXAnio = deportista_df.join(resultados_df, deportista_df.deportista_id == resultados_df.deportista_id, \"left\").join(juego_df, juego_df.juego_id == resultados_df.juego_id, \"left\").join(paises_df, paises_df.id == juego_df.juego_id, \"left\").join(evento_df, evento_df.evento_id == resultados_df.evento_id, \"left\").join(deporte_df, deporte_df.deporte_id == evento_df.deporte_id, \"left\").select(paises_df.sigle, juego_df.anio, \"medalla\", deporte_df.deporte, evento_df.evento, deportista_df.nombre)"
   ]
  },
  {
   "cell_type": "code",
   "execution_count": 179,
   "metadata": {},
   "outputs": [
    {
     "output_type": "stream",
     "name": "stdout",
     "text": [
      "+-----+-----------+-------+--------------------+--------------------+--------------------+\n|sigle|       anio|medalla|             deporte|              evento|              nombre|\n+-----+-----------+-------+--------------------+--------------------+--------------------+\n|  AND|1976 Verano|     NA|Basketball Women'...|Basketball Men's ...|Alfred A. Butch L...|\n+-----+-----------+-------+--------------------+--------------------+--------------------+\nonly showing top 1 row\n\n"
     ]
    }
   ],
   "source": [
    "medallistaXAnio.show(1)"
   ]
  },
  {
   "cell_type": "code",
   "execution_count": 175,
   "metadata": {},
   "outputs": [],
   "source": [
    "medallistaXAnio = medallistaXAnio.filter(medallistaXAnio.medalla != \"NA\").sort(\"anio\").groupBy(\"sigle\", \"anio\", \"deporte\").count()"
   ]
  },
  {
   "cell_type": "code",
   "execution_count": 176,
   "metadata": {},
   "outputs": [
    {
     "output_type": "stream",
     "name": "stdout",
     "text": [
      "+-----+-------------+--------------------+-----+\n|sigle|         anio|             deporte|count|\n+-----+-------------+--------------------+-----+\n|  AND|  1976 Verano|Canoeing Men's Ka...|   34|\n|  AND|  1976 Verano|Shooting Men's Mi...|   11|\n|  AND|  1976 Verano|Fencing Women's e...|   38|\n|  NED|1968 Invierno|Cross Country Ski...|   15|\n|  FRA|  1968 Verano|Fencing Women's F...|   47|\n|  FRA|  1968 Verano|Gymnastics Men's ...|   33|\n|  FRA|  1968 Verano|Shooting Men's Mi...|   10|\n|  FRA|  1968 Verano|Shooting Women's ...|   10|\n|  FRA|  1968 Verano|Weightlifting Wom...|   12|\n|  ITA|1932 Invierno|Cross Country Ski...|    6|\n|  ARG|  2008 Verano|Badminton Women's...|   17|\n|  ARG|  2008 Verano|Swimming Women's ...|  115|\n|  ARG|  2008 Verano|Wrestling Men's F...|   42|\n|  AUT|  1896 Verano|Athletics Women's...|   11|\n|  ITA|  1932 Verano|Athletics Women's...|   56|\n|  ITA|  1932 Verano|Wrestling Men's S...|   22|\n|  ITA|  1932 Verano|Gymnastics Women'...|   24|\n|  ITA|  1932 Verano|Swimming Women's ...|   24|\n|  IRL|  1912 Verano|Athletics Women's...|   75|\n|  MEX|  1904 Verano|Swimming Men's 1,...|   14|\n+-----+-------------+--------------------+-----+\nonly showing top 20 rows\n\n"
     ]
    }
   ],
   "source": [
    "medallistaXAnio.show()"
   ]
  },
  {
   "cell_type": "code",
   "execution_count": 180,
   "metadata": {},
   "outputs": [],
   "source": [
    "deportista_df.registerTempTable('deportistas')\n",
    "resultados_df.registerTempTable('resultados')\n",
    "paises_df.registerTempTable('paises')"
   ]
  },
  {
   "cell_type": "code",
   "execution_count": 182,
   "metadata": {},
   "outputs": [
    {
     "output_type": "stream",
     "name": "stdout",
     "text": [
      "+-------------+--------------------+------+----+------+----+---------+\n|deportista_id|              nombre|genero|edad|altura|peso|equipo_id|\n+-------------+--------------------+------+----+------+----+---------+\n|        67788|            Lee BuTi|     1|  23|   164|54.0|      203|\n|        67789|Anthony N. Buddy Lee|     1|  34|   172|62.0|     1096|\n|        67790|Alfred A. Butch L...|     1|  19|   186|80.0|      825|\n|        67791|        Lee ByeongGu|     1|  22|   175|68.0|      970|\n|        67792|       Lee ByeongGyu|     1|  21|   185|82.0|      970|\n|        67793|        Lee ByeongIn|     2|  20|   174|69.0|      970|\n|        67794|       Lee ByeongNam|     1|  24|   175|75.0|      970|\n|        67795|      Lee ByeongYong|     1|  29|   197|98.0|      970|\n|        67796|  Kar Wai Calvin Lee|     1|  29|   172|68.0|      470|\n|        67797|          Lee ChaeOn|     1|  25|   188|84.0|      970|\n|        67798|         Lee ChaeWon|     2|  20|   154|49.0|      970|\n|        67799|        Lee Chak Men|     1|   0|   183| 0.0|      929|\n|        67800|        Lee ChanDong|     1|  23|   183|83.0|      970|\n|        67801|        Lee ChangGil|     1|  19|   177|60.0|      970|\n|        67802|         Lee ChangHa|     2|  15|     0| 0.0|      970|\n|        67803|        Lee ChangHun|     1|  21|   170|62.0|      970|\n|        67804|       Lee ChangHwan|     1|  26|   178|78.0|      970|\n|        67805|        Lee ChangMin|     1|  22|   178|74.0|      970|\n|        67806|       Lee ChangSeon|     1|  20|   168|70.0|      970|\n|        67807|         Lee ChangWu|     1|  21|   187|87.0|      970|\n+-------------+--------------------+------+----+------+----+---------+\nonly showing top 20 rows\n\n"
     ]
    }
   ],
   "source": [
    "sql_context.sql(\"\"\"\n",
    "    SELECT * FROM deportistas\n",
    "\"\"\").show()"
   ]
  },
  {
   "cell_type": "code",
   "execution_count": 190,
   "metadata": {},
   "outputs": [
    {
     "output_type": "stream",
     "name": "stdout",
     "text": [
      "+-------+----------+-----+\n|medalla|    equipo|sigle|\n+-------+----------+-----+\n|   Gold|  Zimbabwe|  ZIM|\n|   Gold|  Zimbabwe|  ZIM|\n|   Gold|  Zimbabwe|  ZIM|\n|   Gold|  Zimbabwe|  ZIM|\n|   Gold|  Zimbabwe|  ZIM|\n|   Gold|  Zimbabwe|  ZIM|\n|   Gold|  Zimbabwe|  ZIM|\n| Bronze|    Zambia|  ZAM|\n| Silver|    Zambia|  ZAM|\n| Bronze|Yugoslavia|  YUG|\n| Bronze|Yugoslavia|  YUG|\n|   Gold|Yugoslavia|  YUG|\n|   Gold|Yugoslavia|  YUG|\n| Silver|Yugoslavia|  YUG|\n|   Gold|Yugoslavia|  YUG|\n|   Gold|Yugoslavia|  YUG|\n| Bronze|Yugoslavia|  YUG|\n| Silver|Yugoslavia|  YUG|\n|   Gold|Yugoslavia|  YUG|\n| Silver|Yugoslavia|  YUG|\n+-------+----------+-----+\nonly showing top 20 rows\n\n"
     ]
    }
   ],
   "source": [
    "sql_context.sql(\n",
    "\"\"\"\n",
    "SELECT medalla, equipo, sigle FROM resultados AS r\n",
    "JOIN deportistas AS d\n",
    "ON r.deportista_id = d.deportista_id\n",
    "JOIN paises AS p\n",
    "ON p.id = d.equipo_id\n",
    "WHERE medalla <> \"NA\"\n",
    "ORDER BY sigle DESC\n",
    "\"\"\").show()"
   ]
  },
  {
   "cell_type": "code",
   "execution_count": 191,
   "metadata": {},
   "outputs": [
    {
     "output_type": "execute_result",
     "data": {
      "text/plain": [
       "<function __main__.<lambda>(z)>"
      ]
     },
     "metadata": {},
     "execution_count": 191
    }
   ],
   "source": [
    "def conversionEnteros(valor):\n",
    "    return int(valor) if len(valor) > 0 else None\n",
    "\n",
    "conversionEnteros_udf = udf(lambda z: conversionEnteros(z), IntegerType())\n",
    "sql_context.udf.register(\"conversionEnteros_udf\", conversionEnteros_udf)"
   ]
  },
  {
   "cell_type": "code",
   "execution_count": null,
   "metadata": {},
   "outputs": [],
   "source": [
    "deportistaErrorDF.select(conversionEnteros_udf(\"altura\"))"
   ]
  },
  {
   "cell_type": "code",
   "execution_count": 192,
   "metadata": {},
   "outputs": [],
   "source": [
    "from 